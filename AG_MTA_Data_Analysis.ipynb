{
 "cells": [
  {
   "cell_type": "markdown",
   "metadata": {},
   "source": [
    "# Analyzing the Data"
   ]
  },
  {
   "cell_type": "markdown",
   "metadata": {},
   "source": [
    "## Step 1: Import Libraries"
   ]
  },
  {
   "cell_type": "code",
   "execution_count": 165,
   "metadata": {},
   "outputs": [],
   "source": [
    "import pandas as pd\n",
    "import numpy as np\n",
    "import matplotlib.pyplot as plt\n",
    "import datetime as dt \n",
    "import pickle\n",
    "%matplotlib inline\n",
    "import seaborn as sns"
   ]
  },
  {
   "cell_type": "markdown",
   "metadata": {},
   "source": [
    "## Step 2: Read in the Data from the Pickle"
   ]
  },
  {
   "cell_type": "code",
   "execution_count": 166,
   "metadata": {},
   "outputs": [],
   "source": [
    "# Read in the data\n",
    "with open('data/clean_df.pickle','rb') as read_file:\n",
    "    clean_df = pickle.load(read_file)"
   ]
  },
  {
   "cell_type": "code",
   "execution_count": 167,
   "metadata": {
    "scrolled": true
   },
   "outputs": [
    {
     "name": "stdout",
     "output_type": "stream",
     "text": [
      "The 10 stations with the most foot traffic during the sampled weeks are\n",
      "station\n",
      "34 ST-PENN STA     16439860.0\n",
      "23 ST              12165809.0\n",
      "GRD CNTRL-42 ST    10714137.0\n",
      "FULTON ST          10582561.0\n",
      "34 ST-HERALD SQ    10286919.0\n",
      "TIMES SQ-42 ST      9859007.0\n",
      "125 ST              9544006.0\n",
      "42 ST-PORT AUTH     9510106.0\n",
      "86 ST               9223703.0\n",
      "CANAL ST            8269081.0\n",
      "59 ST               7797561.0\n",
      "Name: total_traffic, dtype: float64\n"
     ]
    }
   ],
   "source": [
    "station_traffic = clean_df.groupby('station').total_traffic.sum()\n",
    "top_10_stations = station_traffic.sort_values(ascending=False)[0:11]\n",
    "print('The 10 stations with the most foot traffic during the sampled weeks are')\n",
    "print(top_10_stations)"
   ]
  },
  {
   "cell_type": "code",
   "execution_count": 168,
   "metadata": {},
   "outputs": [
    {
     "data": {
      "text/plain": [
       "station\n",
       "34 ST-PENN STA     16439860.0\n",
       "23 ST              12165809.0\n",
       "GRD CNTRL-42 ST    10714137.0\n",
       "FULTON ST          10582561.0\n",
       "34 ST-HERALD SQ    10286919.0\n",
       "TIMES SQ-42 ST      9859007.0\n",
       "125 ST              9544006.0\n",
       "42 ST-PORT AUTH     9510106.0\n",
       "86 ST               9223703.0\n",
       "CANAL ST            8269081.0\n",
       "Name: total_traffic, dtype: float64"
      ]
     },
     "execution_count": 168,
     "metadata": {},
     "output_type": "execute_result"
    }
   ],
   "source": [
    "# First look at all stations at all times of day on all days\n",
    "# Not helpful in making recommendations\n",
    "general_station_groups = clean_df.groupby('station').total_traffic.sum().sort_values(ascending=False)\n",
    "general_station_groups[0:10]"
   ]
  },
  {
   "cell_type": "code",
   "execution_count": 169,
   "metadata": {},
   "outputs": [],
   "source": [
    "# See which stations are most trafficked on weekday mornings\n",
    "\n",
    "am_weekday_df = clean_df[np.logical_and(clean_df.weekday<=4,np.logical_and(clean_df.hour<=12,clean_df.hour>=9))]\n",
    "\n",
    "am_weekday_stations = pd.DataFrame(am_weekday_df.groupby('station').exit_counts.agg(np.median).sort_values(ascending=False))\n",
    "top_am_weekday_stations = am_weekday_stations[0:51]"
   ]
  },
  {
   "cell_type": "code",
   "execution_count": 171,
   "metadata": {},
   "outputs": [
    {
     "data": {
      "text/html": [
       "<div>\n",
       "<style scoped>\n",
       "    .dataframe tbody tr th:only-of-type {\n",
       "        vertical-align: middle;\n",
       "    }\n",
       "\n",
       "    .dataframe tbody tr th {\n",
       "        vertical-align: top;\n",
       "    }\n",
       "\n",
       "    .dataframe thead th {\n",
       "        text-align: right;\n",
       "    }\n",
       "</style>\n",
       "<table border=\"1\" class=\"dataframe\">\n",
       "  <thead>\n",
       "    <tr style=\"text-align: right;\">\n",
       "      <th></th>\n",
       "      <th>exit_counts</th>\n",
       "    </tr>\n",
       "    <tr>\n",
       "      <th>station</th>\n",
       "      <th></th>\n",
       "    </tr>\n",
       "  </thead>\n",
       "  <tbody>\n",
       "    <tr>\n",
       "      <td>THIRTY THIRD ST</td>\n",
       "      <td>540.0</td>\n",
       "    </tr>\n",
       "    <tr>\n",
       "      <td>42 ST-BRYANT PK</td>\n",
       "      <td>500.5</td>\n",
       "    </tr>\n",
       "    <tr>\n",
       "      <td>WESTCHESTER SQ</td>\n",
       "      <td>478.0</td>\n",
       "    </tr>\n",
       "    <tr>\n",
       "      <td>GRAND ST</td>\n",
       "      <td>476.0</td>\n",
       "    </tr>\n",
       "    <tr>\n",
       "      <td>68ST-HUNTER CO</td>\n",
       "      <td>415.0</td>\n",
       "    </tr>\n",
       "    <tr>\n",
       "      <td>72 ST-2 AVE</td>\n",
       "      <td>414.0</td>\n",
       "    </tr>\n",
       "    <tr>\n",
       "      <td>51 ST</td>\n",
       "      <td>414.0</td>\n",
       "    </tr>\n",
       "    <tr>\n",
       "      <td>PATH WTC 2</td>\n",
       "      <td>384.0</td>\n",
       "    </tr>\n",
       "    <tr>\n",
       "      <td>33 ST-RAWSON ST</td>\n",
       "      <td>384.0</td>\n",
       "    </tr>\n",
       "    <tr>\n",
       "      <td>HOYT-SCHER</td>\n",
       "      <td>381.0</td>\n",
       "    </tr>\n",
       "    <tr>\n",
       "      <td>50 ST</td>\n",
       "      <td>380.0</td>\n",
       "    </tr>\n",
       "    <tr>\n",
       "      <td>LEXINGTON AV/53</td>\n",
       "      <td>353.0</td>\n",
       "    </tr>\n",
       "    <tr>\n",
       "      <td>TIMES SQ-42 ST</td>\n",
       "      <td>352.0</td>\n",
       "    </tr>\n",
       "    <tr>\n",
       "      <td>34 ST-HERALD SQ</td>\n",
       "      <td>350.0</td>\n",
       "    </tr>\n",
       "    <tr>\n",
       "      <td>PRINCE ST</td>\n",
       "      <td>349.5</td>\n",
       "    </tr>\n",
       "    <tr>\n",
       "      <td>PAVONIA/NEWPORT</td>\n",
       "      <td>344.5</td>\n",
       "    </tr>\n",
       "    <tr>\n",
       "      <td>191 ST</td>\n",
       "      <td>337.5</td>\n",
       "    </tr>\n",
       "    <tr>\n",
       "      <td>3 AV</td>\n",
       "      <td>335.0</td>\n",
       "    </tr>\n",
       "    <tr>\n",
       "      <td>23 ST</td>\n",
       "      <td>331.0</td>\n",
       "    </tr>\n",
       "    <tr>\n",
       "      <td>57 ST-7 AV</td>\n",
       "      <td>330.0</td>\n",
       "    </tr>\n",
       "    <tr>\n",
       "      <td>28 ST</td>\n",
       "      <td>324.0</td>\n",
       "    </tr>\n",
       "    <tr>\n",
       "      <td>14 ST-UNION SQ</td>\n",
       "      <td>323.0</td>\n",
       "    </tr>\n",
       "    <tr>\n",
       "      <td>2 AV</td>\n",
       "      <td>323.0</td>\n",
       "    </tr>\n",
       "    <tr>\n",
       "      <td>PATH NEW WTC</td>\n",
       "      <td>321.5</td>\n",
       "    </tr>\n",
       "    <tr>\n",
       "      <td>59 ST COLUMBUS</td>\n",
       "      <td>317.0</td>\n",
       "    </tr>\n",
       "    <tr>\n",
       "      <td>GRD CNTRL-42 ST</td>\n",
       "      <td>312.0</td>\n",
       "    </tr>\n",
       "    <tr>\n",
       "      <td>BOWERY</td>\n",
       "      <td>305.5</td>\n",
       "    </tr>\n",
       "    <tr>\n",
       "      <td>110 ST</td>\n",
       "      <td>301.0</td>\n",
       "    </tr>\n",
       "    <tr>\n",
       "      <td>47-50 STS ROCK</td>\n",
       "      <td>300.5</td>\n",
       "    </tr>\n",
       "    <tr>\n",
       "      <td>57 ST</td>\n",
       "      <td>295.0</td>\n",
       "    </tr>\n",
       "    <tr>\n",
       "      <td>HIGH ST</td>\n",
       "      <td>282.0</td>\n",
       "    </tr>\n",
       "    <tr>\n",
       "      <td>116 ST-COLUMBIA</td>\n",
       "      <td>281.5</td>\n",
       "    </tr>\n",
       "    <tr>\n",
       "      <td>33 ST</td>\n",
       "      <td>275.0</td>\n",
       "    </tr>\n",
       "    <tr>\n",
       "      <td>PRESIDENT ST</td>\n",
       "      <td>274.0</td>\n",
       "    </tr>\n",
       "    <tr>\n",
       "      <td>9TH STREET</td>\n",
       "      <td>274.0</td>\n",
       "    </tr>\n",
       "    <tr>\n",
       "      <td>NEVINS ST</td>\n",
       "      <td>272.0</td>\n",
       "    </tr>\n",
       "    <tr>\n",
       "      <td>49 ST</td>\n",
       "      <td>260.0</td>\n",
       "    </tr>\n",
       "    <tr>\n",
       "      <td>72 ST</td>\n",
       "      <td>258.0</td>\n",
       "    </tr>\n",
       "    <tr>\n",
       "      <td>66 ST-LINCOLN</td>\n",
       "      <td>257.0</td>\n",
       "    </tr>\n",
       "    <tr>\n",
       "      <td>BROOKLYN BRIDGE</td>\n",
       "      <td>256.0</td>\n",
       "    </tr>\n",
       "    <tr>\n",
       "      <td>77 ST</td>\n",
       "      <td>254.5</td>\n",
       "    </tr>\n",
       "    <tr>\n",
       "      <td>5 AV/53 ST</td>\n",
       "      <td>242.0</td>\n",
       "    </tr>\n",
       "    <tr>\n",
       "      <td>FLUSHING-MAIN</td>\n",
       "      <td>239.0</td>\n",
       "    </tr>\n",
       "    <tr>\n",
       "      <td>WALL ST</td>\n",
       "      <td>239.0</td>\n",
       "    </tr>\n",
       "    <tr>\n",
       "      <td>21 ST-QNSBRIDGE</td>\n",
       "      <td>237.0</td>\n",
       "    </tr>\n",
       "    <tr>\n",
       "      <td>LEXINGTON AV/63</td>\n",
       "      <td>237.0</td>\n",
       "    </tr>\n",
       "    <tr>\n",
       "      <td>CLASSON AV</td>\n",
       "      <td>237.0</td>\n",
       "    </tr>\n",
       "    <tr>\n",
       "      <td>59 ST</td>\n",
       "      <td>235.5</td>\n",
       "    </tr>\n",
       "    <tr>\n",
       "      <td>7 AV</td>\n",
       "      <td>235.0</td>\n",
       "    </tr>\n",
       "    <tr>\n",
       "      <td>40 ST LOWERY ST</td>\n",
       "      <td>233.0</td>\n",
       "    </tr>\n",
       "    <tr>\n",
       "      <td>BEDFORD AV</td>\n",
       "      <td>233.0</td>\n",
       "    </tr>\n",
       "  </tbody>\n",
       "</table>\n",
       "</div>"
      ],
      "text/plain": [
       "                 exit_counts\n",
       "station                     \n",
       "THIRTY THIRD ST        540.0\n",
       "42 ST-BRYANT PK        500.5\n",
       "WESTCHESTER SQ         478.0\n",
       "GRAND ST               476.0\n",
       "68ST-HUNTER CO         415.0\n",
       "72 ST-2 AVE            414.0\n",
       "51 ST                  414.0\n",
       "PATH WTC 2             384.0\n",
       "33 ST-RAWSON ST        384.0\n",
       "HOYT-SCHER             381.0\n",
       "50 ST                  380.0\n",
       "LEXINGTON AV/53        353.0\n",
       "TIMES SQ-42 ST         352.0\n",
       "34 ST-HERALD SQ        350.0\n",
       "PRINCE ST              349.5\n",
       "PAVONIA/NEWPORT        344.5\n",
       "191 ST                 337.5\n",
       "3 AV                   335.0\n",
       "23 ST                  331.0\n",
       "57 ST-7 AV             330.0\n",
       "28 ST                  324.0\n",
       "14 ST-UNION SQ         323.0\n",
       "2 AV                   323.0\n",
       "PATH NEW WTC           321.5\n",
       "59 ST COLUMBUS         317.0\n",
       "GRD CNTRL-42 ST        312.0\n",
       "BOWERY                 305.5\n",
       "110 ST                 301.0\n",
       "47-50 STS ROCK         300.5\n",
       "57 ST                  295.0\n",
       "HIGH ST                282.0\n",
       "116 ST-COLUMBIA        281.5\n",
       "33 ST                  275.0\n",
       "PRESIDENT ST           274.0\n",
       "9TH STREET             274.0\n",
       "NEVINS ST              272.0\n",
       "49 ST                  260.0\n",
       "72 ST                  258.0\n",
       "66 ST-LINCOLN          257.0\n",
       "BROOKLYN BRIDGE        256.0\n",
       "77 ST                  254.5\n",
       "5 AV/53 ST             242.0\n",
       "FLUSHING-MAIN          239.0\n",
       "WALL ST                239.0\n",
       "21 ST-QNSBRIDGE        237.0\n",
       "LEXINGTON AV/63        237.0\n",
       "CLASSON AV             237.0\n",
       "59 ST                  235.5\n",
       "7 AV                   235.0\n",
       "40 ST LOWERY ST        233.0\n",
       "BEDFORD AV             233.0"
      ]
     },
     "execution_count": 171,
     "metadata": {},
     "output_type": "execute_result"
    }
   ],
   "source": [
    "top_am_weekday_stations"
   ]
  },
  {
   "cell_type": "code",
   "execution_count": 170,
   "metadata": {},
   "outputs": [],
   "source": [
    "# Save most trafficked morning stations\n",
    "with open('data/top_am_weekday_stations.pickle', 'wb') as to_write:\n",
    "    pickle.dump(top_am_weekday_stations, to_write)\n",
    "\n",
    "# sns.barplot(am_weekday_stations[am_weekday_stations>600].values,am_weekday_stations[am_weekday_stations>600].index,color='lightblue')\n",
    "# plt.xlabel('Station')\n",
    "# sns.despine();"
   ]
  },
  {
   "cell_type": "code",
   "execution_count": 150,
   "metadata": {},
   "outputs": [
    {
     "data": {
      "image/png": "[encoded data removed]",
      "text/plain": [
       "<Figure size 432x288 with 1 Axes>"
      ]
     },
     "metadata": {
      "needs_background": "light"
     },
     "output_type": "display_data"
    }
   ],
   "source": [
    "# Create boxplots for the stations with the highest medians\n",
    "am_weekday_df[np.logical_or(np.logical_or(am_weekday_df.station=='THIRTY THIRD ST',am_weekday_df.station=='42 ST-BRYANT PK'),\\\n",
    "                            np.logical_or(am_weekday_df.station=='WESTCHESTER SQ',am_weekday_df.station=='GRAND ST'))].boxplot('exit_counts',by='station');\n"
   ]
  },
  {
   "cell_type": "code",
   "execution_count": 162,
   "metadata": {},
   "outputs": [],
   "source": [
    "# See which stations are most trafficked on weekday evenings\n",
    "pm_weekday_df = clean_df[np.logical_and(clean_df.weekday<=4,np.logical_and(clean_df.hour>=12+6,clean_df.hour<=12+9))]\n",
    "\n",
    "pm_weekday_stations = pd.DataFrame(pm_weekday_df.groupby('station').exit_counts.agg(np.median)).sort_values('exit_counts',ascending=False)\n",
    "top_pm_weekday_stations = pm_weekday_stations[0:51]"
   ]
  },
  {
   "cell_type": "code",
   "execution_count": 163,
   "metadata": {},
   "outputs": [],
   "source": [
    "# Save most trafficked morning stations\n",
    "with open('data/top_pm_weekday_stations.pickle', 'wb') as to_write:\n",
    "    pickle.dump(top_pm_weekday_stations, to_write)\n",
    "\n",
    "    \n",
    "# sns.barplot(am_weekday_stations[am_weekday_stations>600].values,am_weekday_stations[am_weekday_stations>600].index,color='lightblue')\n",
    "# plt.xlabel('Station')\n",
    "# sns.despine();"
   ]
  },
  {
   "cell_type": "code",
   "execution_count": 164,
   "metadata": {},
   "outputs": [
    {
     "data": {
      "text/html": [
       "<div>\n",
       "<style scoped>\n",
       "    .dataframe tbody tr th:only-of-type {\n",
       "        vertical-align: middle;\n",
       "    }\n",
       "\n",
       "    .dataframe tbody tr th {\n",
       "        vertical-align: top;\n",
       "    }\n",
       "\n",
       "    .dataframe thead th {\n",
       "        text-align: right;\n",
       "    }\n",
       "</style>\n",
       "<table border=\"1\" class=\"dataframe\">\n",
       "  <thead>\n",
       "    <tr style=\"text-align: right;\">\n",
       "      <th></th>\n",
       "      <th>exit_counts</th>\n",
       "    </tr>\n",
       "    <tr>\n",
       "      <th>station</th>\n",
       "      <th></th>\n",
       "    </tr>\n",
       "  </thead>\n",
       "  <tbody>\n",
       "    <tr>\n",
       "      <td>CRESCENT ST</td>\n",
       "      <td>692.0</td>\n",
       "    </tr>\n",
       "    <tr>\n",
       "      <td>CLASSON AV</td>\n",
       "      <td>675.5</td>\n",
       "    </tr>\n",
       "    <tr>\n",
       "      <td>NEWKIRK PLAZA</td>\n",
       "      <td>621.0</td>\n",
       "    </tr>\n",
       "    <tr>\n",
       "      <td>FLUSHING-MAIN</td>\n",
       "      <td>585.5</td>\n",
       "    </tr>\n",
       "    <tr>\n",
       "      <td>PRESIDENT ST</td>\n",
       "      <td>572.0</td>\n",
       "    </tr>\n",
       "  </tbody>\n",
       "</table>\n",
       "</div>"
      ],
      "text/plain": [
       "               exit_counts\n",
       "station                   \n",
       "CRESCENT ST          692.0\n",
       "CLASSON AV           675.5\n",
       "NEWKIRK PLAZA        621.0\n",
       "FLUSHING-MAIN        585.5\n",
       "PRESIDENT ST         572.0"
      ]
     },
     "execution_count": 164,
     "metadata": {},
     "output_type": "execute_result"
    }
   ],
   "source": [
    "top_pm_weekday_stations.head()"
   ]
  },
  {
   "cell_type": "code",
   "execution_count": 155,
   "metadata": {},
   "outputs": [
    {
     "data": {
      "image/png": "[encoded data removed]",
      "text/plain": [
       "<Figure size 432x288 with 1 Axes>"
      ]
     },
     "metadata": {
      "needs_background": "light"
     },
     "output_type": "display_data"
    }
   ],
   "source": [
    "# Create boxplots for the stations with the highest medians\n",
    "pm_weekday_df[np.logical_or(np.logical_or(pm_weekday_df.station=='CRESCENT ST',pm_weekday_df.station=='CLASSON AV'),\\\n",
    "                            np.logical_or(pm_weekday_df.station=='NEWKIRK PLAZA',pm_weekday_df.station=='FLUSHING-MAIN'))].boxplot('exit_counts',by='station');\n"
   ]
  }
 ],
 "metadata": {
  "kernelspec": {
   "display_name": "Python 3",
   "language": "python",
   "name": "python3"
  },
  "language_info": {
   "codemirror_mode": {
    "name": "ipython",
    "version": 3
   },
   "file_extension": ".py",
   "mimetype": "text/x-python",
   "name": "python",
   "nbconvert_exporter": "python",
   "pygments_lexer": "ipython3",
   "version": "3.7.3"
  }
 },
 "nbformat": 4,
 "nbformat_minor": 2
}
