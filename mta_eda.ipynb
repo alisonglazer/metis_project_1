{
 "cells": [
  {
   "cell_type": "markdown",
   "metadata": {},
   "source": []
  },
  {
   "cell_type": "markdown",
   "metadata": {},
   "source": [
    "## Step 1: Importing Libraries"
   ]
  },
  {
   "cell_type": "code",
   "execution_count": 288,
   "metadata": {},
   "outputs": [],
   "source": [
    "import pandas as pd\n",
    "import numpy as np\n",
    "import matplotlib.pyplot as plt\n",
    "import datetime as dt "
   ]
  },
  {
   "cell_type": "markdown",
   "metadata": {},
   "source": [
    "## Step 2: Reading in and Organizing the Data"
   ]
  },
  {
   "cell_type": "code",
   "execution_count": null,
   "metadata": {},
   "outputs": [],
   "source": [
    "# Define the weeks to retrieve from the MTA database\n",
    "def weeks_list(list_of_dates):\n",
    "    strptime()\n",
    "\n",
    "# We want to pull in data from a week in mid-January and mid-May of 2018 and 2019\n"
   ]
  },
  {
   "cell_type": "code",
   "execution_count": 60,
   "metadata": {},
   "outputs": [],
   "source": [
    "def readTurnstileData(link):\n",
    "    \"\"\"\n",
    "    This function reads in data from an online MTA Turnstile dataset into a DataFrame\n",
    "    ---\n",
    "    input: link to dataset\n",
    "    output: DataFrame\n",
    "    \"\"\"\n",
    "    cols = ['control_area','unit','scp','station','line_name','division','date','time',\n",
    "        'desc','entries','exits']\n",
    "    \n",
    "    turnstile_data = pd.read_csv(link, header = 0, names = cols)\n",
    "    return turnstile_data\n",
    "\n",
    "def formatDateTime(df):\n",
    "    \"\"\"\n",
    "    This function converts the date and time into DateTime format in a single column\n",
    "    and deletes the unformatted date and time columns\n",
    "    \n",
    "    Note: only run once per DataFrame, will result in error otherwise\n",
    "    ---\n",
    "    input: DataFrame\n",
    "    output: DataFrame\n",
    "    \"\"\"\n",
    "    \n",
    "    #convert date and time to DateTime format in a single column\n",
    "    df['concat_date_time'] = df['date'] + ' ' + df['time']\n",
    "    df['date_time'] = pd.to_datetime(df.concat_date_time,format = '%m/%d/%Y %H:%M:%S')\n",
    "    \n",
    "    #delete unformatted date and time columns\n",
    "    del df['concat_date_time']\n",
    "    del df['date']\n",
    "    del df['time']\n",
    "    return df\n",
    "\n",
    "def read_and_format_turnstile_data(link):\n",
    "    \"\"\"\n",
    "    This function reads in Turnstile data from online and returns a DataFrame with \n",
    "    with the date and time information converted to a single DateTime column\n",
    "    ---\n",
    "    input: link\n",
    "    output: DataFrame\n",
    "    \"\"\"\n",
    "    df = readTurnstileData(link)\n",
    "    df1 = formatDateTime(df)\n",
    "    return df1"
   ]
  },
  {
   "cell_type": "code",
   "execution_count": 115,
   "metadata": {},
   "outputs": [],
   "source": [
    "# Read in one of the turnstile datasets\n",
    "turnstile_data_link_1 = 'http://web.mta.info/developers/data/nyct/turnstile/turnstile_190921.txt'\n",
    "turnstile_data_1 = read_and_format_turnstile_data(turnstile_data_link_1)\n",
    "df = turnstile_data_1"
   ]
  },
  {
   "cell_type": "code",
   "execution_count": 116,
   "metadata": {},
   "outputs": [],
   "source": [
    "# Create a column for weekday\n",
    "df['weekday'] = df[['date_time']].apply(lambda x: x['date_time'].dayofweek,axis=1)"
   ]
  },
  {
   "cell_type": "code",
   "execution_count": 117,
   "metadata": {},
   "outputs": [],
   "source": [
    "# Create a column for year\n",
    "df['year'] = df[['date_time']].apply(lambda x: x['date_time'].year,axis=1)"
   ]
  },
  {
   "cell_type": "code",
   "execution_count": 120,
   "metadata": {},
   "outputs": [],
   "source": [
    "# Create unique ID for each turnstile\n",
    "df['turnstile_id'] = df.groupby(['control_area','unit','scp','station','year']).ngroup()"
   ]
  },
  {
   "cell_type": "markdown",
   "metadata": {},
   "source": [
    "## Step 3: Cleaning the Data"
   ]
  },
  {
   "cell_type": "code",
   "execution_count": 163,
   "metadata": {},
   "outputs": [],
   "source": [
    "# Sort DataFrame by turnstile and date\n",
    "df.sort_values(['turnstile_id','date_time'],inplace=True)\n",
    "df.reset_index(drop=True,inplace=True)\n",
    "\n",
    "# Find entries and exits differences per turnstile\n",
    "df['exit_counts'] = abs(df.groupby('turnstile_id').exits.diff())\n",
    "df['entry_counts'] = abs(df.groupby('turnstile_id').entries.diff())\n",
    "    "
   ]
  },
  {
   "cell_type": "code",
   "execution_count": 194,
   "metadata": {},
   "outputs": [
    {
     "data": {
      "text/html": [
       "<div>\n",
       "<style scoped>\n",
       "    .dataframe tbody tr th:only-of-type {\n",
       "        vertical-align: middle;\n",
       "    }\n",
       "\n",
       "    .dataframe tbody tr th {\n",
       "        vertical-align: top;\n",
       "    }\n",
       "\n",
       "    .dataframe thead th {\n",
       "        text-align: right;\n",
       "    }\n",
       "</style>\n",
       "<table border=\"1\" class=\"dataframe\">\n",
       "  <thead>\n",
       "    <tr style=\"text-align: right;\">\n",
       "      <th></th>\n",
       "      <th>entries</th>\n",
       "      <th>exits</th>\n",
       "      <th>weekday</th>\n",
       "      <th>year</th>\n",
       "      <th>turnstile_id</th>\n",
       "      <th>exit_counts</th>\n",
       "      <th>entry_counts</th>\n",
       "    </tr>\n",
       "  </thead>\n",
       "  <tbody>\n",
       "    <tr>\n",
       "      <td>count</td>\n",
       "      <td>2.049280e+05</td>\n",
       "      <td>2.049280e+05</td>\n",
       "      <td>204928.000000</td>\n",
       "      <td>204928.0</td>\n",
       "      <td>204928.000000</td>\n",
       "      <td>2.000390e+05</td>\n",
       "      <td>2.000390e+05</td>\n",
       "    </tr>\n",
       "    <tr>\n",
       "      <td>mean</td>\n",
       "      <td>4.210505e+07</td>\n",
       "      <td>3.487423e+07</td>\n",
       "      <td>2.996438</td>\n",
       "      <td>2019.0</td>\n",
       "      <td>2443.410051</td>\n",
       "      <td>3.718126e+03</td>\n",
       "      <td>9.892405e+02</td>\n",
       "    </tr>\n",
       "    <tr>\n",
       "      <td>std</td>\n",
       "      <td>2.155757e+08</td>\n",
       "      <td>1.995488e+08</td>\n",
       "      <td>1.999035</td>\n",
       "      <td>0.0</td>\n",
       "      <td>1413.229378</td>\n",
       "      <td>1.569443e+06</td>\n",
       "      <td>2.377309e+05</td>\n",
       "    </tr>\n",
       "    <tr>\n",
       "      <td>min</td>\n",
       "      <td>0.000000e+00</td>\n",
       "      <td>0.000000e+00</td>\n",
       "      <td>0.000000</td>\n",
       "      <td>2019.0</td>\n",
       "      <td>0.000000</td>\n",
       "      <td>0.000000e+00</td>\n",
       "      <td>0.000000e+00</td>\n",
       "    </tr>\n",
       "    <tr>\n",
       "      <td>25%</td>\n",
       "      <td>2.898092e+05</td>\n",
       "      <td>1.294348e+05</td>\n",
       "      <td>1.000000</td>\n",
       "      <td>2019.0</td>\n",
       "      <td>1220.000000</td>\n",
       "      <td>9.000000e+00</td>\n",
       "      <td>9.000000e+00</td>\n",
       "    </tr>\n",
       "    <tr>\n",
       "      <td>50%</td>\n",
       "      <td>2.040950e+06</td>\n",
       "      <td>1.179450e+06</td>\n",
       "      <td>3.000000</td>\n",
       "      <td>2019.0</td>\n",
       "      <td>2435.000000</td>\n",
       "      <td>5.600000e+01</td>\n",
       "      <td>7.800000e+01</td>\n",
       "    </tr>\n",
       "    <tr>\n",
       "      <td>75%</td>\n",
       "      <td>6.618936e+06</td>\n",
       "      <td>4.535505e+06</td>\n",
       "      <td>5.000000</td>\n",
       "      <td>2019.0</td>\n",
       "      <td>3674.000000</td>\n",
       "      <td>1.800000e+02</td>\n",
       "      <td>2.550000e+02</td>\n",
       "    </tr>\n",
       "    <tr>\n",
       "      <td>max</td>\n",
       "      <td>2.129093e+09</td>\n",
       "      <td>2.123772e+09</td>\n",
       "      <td>6.000000</td>\n",
       "      <td>2019.0</td>\n",
       "      <td>4888.000000</td>\n",
       "      <td>7.019150e+08</td>\n",
       "      <td>1.002601e+08</td>\n",
       "    </tr>\n",
       "  </tbody>\n",
       "</table>\n",
       "</div>"
      ],
      "text/plain": [
       "            entries         exits        weekday      year   turnstile_id  \\\n",
       "count  2.049280e+05  2.049280e+05  204928.000000  204928.0  204928.000000   \n",
       "mean   4.210505e+07  3.487423e+07       2.996438    2019.0    2443.410051   \n",
       "std    2.155757e+08  1.995488e+08       1.999035       0.0    1413.229378   \n",
       "min    0.000000e+00  0.000000e+00       0.000000    2019.0       0.000000   \n",
       "25%    2.898092e+05  1.294348e+05       1.000000    2019.0    1220.000000   \n",
       "50%    2.040950e+06  1.179450e+06       3.000000    2019.0    2435.000000   \n",
       "75%    6.618936e+06  4.535505e+06       5.000000    2019.0    3674.000000   \n",
       "max    2.129093e+09  2.123772e+09       6.000000    2019.0    4888.000000   \n",
       "\n",
       "        exit_counts  entry_counts  \n",
       "count  2.000390e+05  2.000390e+05  \n",
       "mean   3.718126e+03  9.892405e+02  \n",
       "std    1.569443e+06  2.377309e+05  \n",
       "min    0.000000e+00  0.000000e+00  \n",
       "25%    9.000000e+00  9.000000e+00  \n",
       "50%    5.600000e+01  7.800000e+01  \n",
       "75%    1.800000e+02  2.550000e+02  \n",
       "max    7.019150e+08  1.002601e+08  "
      ]
     },
     "execution_count": 194,
     "metadata": {},
     "output_type": "execute_result"
    }
   ],
   "source": [
    "df.describe()"
   ]
  },
  {
   "cell_type": "markdown",
   "metadata": {},
   "source": [
    "Max values on exit and entry counts are way too high"
   ]
  },
  {
   "cell_type": "code",
   "execution_count": 239,
   "metadata": {},
   "outputs": [],
   "source": [
    "def findOutliers(df,column):\n",
    "    \"\"\"\n",
    "    Returns outliers above the max limit for a column in a dataframe\n",
    "    ---\n",
    "    input: DataFrame, column\n",
    "    output: DataFrame\n",
    "    \"\"\"\n",
    "    q25,q50,q75 = df[column].quantile(q=[0.25,0.5,0.75])\n",
    "    iqr = q75-q25\n",
    "    #max limits to be considered an outlier\n",
    "    max = q75 + 1.5*iqr\n",
    "    #identify the points\n",
    "    outlier_mask = [True if x > max else False for x in df[column]]\n",
    "    print('{} outliers found out of {} data points'.format(sum(outlier_mask),len(df[column])))\n",
    "    return outlier_mask"
   ]
  },
  {
   "cell_type": "code",
   "execution_count": 284,
   "metadata": {},
   "outputs": [
    {
     "name": "stdout",
     "output_type": "stream",
     "text": [
      "Entry: \n",
      "13597 outliers found out of 204928 data points\n",
      "191331 points left after removing entry_counts outlier points\n",
      "\n",
      "Exit:\n",
      "17196 outliers found out of 204928 data points\n",
      "187732 points left after removing exit_counts outlier points\n"
     ]
    }
   ],
   "source": [
    "#Get outliers for entries\n",
    "print('Entry: ')\n",
    "df['entry_outliers'] = findOutliers(df,'entry_counts')\n",
    "\n",
    "#DataFrame with entry outliers removed\n",
    "clean_df_entries = df.loc[~df['entry_outliers']]\n",
    "print('{} points left after removing entry_counts outlier points'.format(clean_df_entries.shape[0]))\n",
    "\n",
    "#Get outliers for exits\n",
    "print('\\nExit:')\n",
    "df['exit_outliers'] = findOutliers(df,'exit_counts')\n",
    "\n",
    "#DataFrame with exit outliers removed\n",
    "clean_df_exits = df.loc[~df['exit_outliers']]\n",
    "print('{} points left after removing exit_counts outlier points'.format(clean_df_exits.shape[0]))\n"
   ]
  },
  {
   "cell_type": "code",
   "execution_count": 277,
   "metadata": {},
   "outputs": [
    {
     "name": "stdout",
     "output_type": "stream",
     "text": [
      "186442 points left after removing entry_counts Nan values\n"
     ]
    }
   ],
   "source": [
    "# Eliminate Null values\n",
    "# Delete rows with null values for entry_counts\n",
    "clean_df_entries = clean_df_entries[~clean_df_entries.entry_counts.isnull()]\n",
    "print('{} points left after removing entry_counts NaN values'.format(clean_df_entries.shape[0]))\n",
    "\n",
    "# Delete rows with null values for exit_counts\n",
    "clean_df_entries = clean_df_entries[~clean_df_entries.entry_counts.isnull()]\n",
    "print('{} points left after removing entry_counts NaN values'.format(clean_df_entries.shape[0]))\n"
   ]
  },
  {
   "cell_type": "code",
   "execution_count": 287,
   "metadata": {},
   "outputs": [
    {
     "data": {
      "text/plain": [
       "(176693, 20)"
      ]
     },
     "execution_count": 287,
     "metadata": {},
     "output_type": "execute_result"
    }
   ],
   "source": [
    "# Merge the two DataFrames\n",
    "clean_df = clean_df_entries.merge(clean_df_exits,left_on=list(clean_df_entries.columns), \\\n",
    "                                  right_on=list(clean_df_exits.columns),how='inner')\n",
    "#Add a column for total traffic at each turnstile\n",
    "clean_df['total_traffic'] = clean_df['entry_counts'] + clean_df['exit_counts']"
   ]
  },
  {
   "cell_type": "markdown",
   "metadata": {},
   "source": [
    "## Analyzing the Data\n",
    "\n",
    "- Which station has the most foot traffic:\n",
    "    - On weekdays in particular?\n",
    "    - On which days?\n",
    "    - At what times?\n",
    "\n",
    "\n",
    "- Which stations are near college campuses?\n",
    "- Which stations are in tech-heavy areas?\n",
    "- Which stations are in wealthy neighborhoods?"
   ]
  },
  {
   "cell_type": "code",
   "execution_count": null,
   "metadata": {},
   "outputs": [],
   "source": [
    "station_groupby = "
   ]
  },
  {
   "cell_type": "code",
   "execution_count": null,
   "metadata": {},
   "outputs": [],
   "source": []
  },
  {
   "cell_type": "code",
   "execution_count": null,
   "metadata": {},
   "outputs": [],
   "source": []
  },
  {
   "cell_type": "code",
   "execution_count": null,
   "metadata": {},
   "outputs": [],
   "source": []
  },
  {
   "cell_type": "code",
   "execution_count": 51,
   "metadata": {},
   "outputs": [],
   "source": [
    "station_groupby = turnstile_data.groupby('station')"
   ]
  },
  {
   "cell_type": "code",
   "execution_count": 54,
   "metadata": {},
   "outputs": [
    {
     "data": {
      "text/plain": [
       "station\n",
       "NEWARK HM HE            1073019\n",
       "PATH WTC 2              7402804\n",
       "NEWARK HW BMEBE        16359580\n",
       "9TH STREET             18546632\n",
       "ORCHARD BEACH          20787564\n",
       "                       ...     \n",
       "DEKALB AV          226731273077\n",
       "23 ST              237675376663\n",
       "TIMES SQ-42 ST     244851205878\n",
       "125 ST             282278333960\n",
       "42 ST-PORT AUTH    315905669087\n",
       "Name: entries, Length: 378, dtype: int64"
      ]
     },
     "execution_count": 54,
     "metadata": {},
     "output_type": "execute_result"
    }
   ],
   "source": [
    "station_entries = station_groupby.entries.sum().sort_values(ascending = True)\n",
    "station_entries"
   ]
  }
 ],
 "metadata": {
  "kernelspec": {
   "display_name": "Python [conda env:metis] *",
   "language": "python",
   "name": "conda-env-metis-py"
  },
  "language_info": {
   "codemirror_mode": {
    "name": "ipython",
    "version": 3
   },
   "file_extension": ".py",
   "mimetype": "text/x-python",
   "name": "python",
   "nbconvert_exporter": "python",
   "pygments_lexer": "ipython3",
   "version": "3.7.4"
  }
 },
 "nbformat": 4,
 "nbformat_minor": 2
}
