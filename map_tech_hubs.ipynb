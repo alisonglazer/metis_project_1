{
 "cells": [
  {
   "cell_type": "code",
   "execution_count": 1,
   "metadata": {},
   "outputs": [],
   "source": [
    "from geopy.distance import great_circle\n",
    "midtownCenter = (40.754925, -73.984063)\n",
    "fidiCenter = (40.709761, -74.006453)\n",
    "flatCenter = (40.741568, -73.989095)\n",
    "dumboCenter = (40.701602, -73.985842)\n",
    "chelseaCenter = (40.746531, -73.997195)\n",
    "sohoCenter = (40.724173, -74.000683)\n",
    "boroughDict = {}\n",
    "boroughDict[\"midtown\"] = midtownCenter\n",
    "boroughDict[\"fidi\"] = fidiCenter\n",
    "boroughDict[\"flatiron\"] = flatCenter\n",
    "boroughDict[\"dumbo\"] = dumboCenter\n",
    "boroughDict[\"chelsea\"] = chelseaCenter\n",
    "boroughDict['soho'] = sohoCenter\n",
    "\n",
    "#This function returns the string representation of the likely borough, given a set of latitude/longitude coordinates\n",
    "#If the distance to the borough center is too far away from the closest borough, we assume that the location\n",
    "#is outside of a tech hub\n",
    "def get_closest_borough(latitude,longitude,max_dist = 2):\n",
    "    global boroughDict\n",
    "    borough_distances = {borough:great_circle(boroughDict[borough],(latitude,longitude)).miles for borough in boroughDict}\n",
    "    min_borough = min(borough_distances, key=borough_distances.get)\n",
    "    if borough_distances[min_borough] < max_dist:\n",
    "        return min_borough \n",
    "    else:\n",
    "        return \"outside_tech_hub\""
   ]
  },
  {
   "cell_type": "code",
   "execution_count": 2,
   "metadata": {},
   "outputs": [
    {
     "data": {
      "text/plain": [
       "'midtown'"
      ]
     },
     "execution_count": 2,
     "metadata": {},
     "output_type": "execute_result"
    }
   ],
   "source": [
    "get_closest_borough(40.754925, -73.984063)"
   ]
  },
  {
   "cell_type": "code",
   "execution_count": null,
   "metadata": {},
   "outputs": [],
   "source": [
    "with open('data/clean_df.pickle','rb') as read_file:\n",
    "    clean_df = pickle.load(read_file)"
   ]
  },
  {
   "cell_type": "code",
   "execution_count": null,
   "metadata": {},
   "outputs": [],
   "source": []
  }
 ],
 "metadata": {
  "kernelspec": {
   "display_name": "Python 3",
   "language": "python",
   "name": "python3"
  },
  "language_info": {
   "codemirror_mode": {
    "name": "ipython",
    "version": 3
   },
   "file_extension": ".py",
   "mimetype": "text/x-python",
   "name": "python",
   "nbconvert_exporter": "python",
   "pygments_lexer": "ipython3",
   "version": "3.7.1"
  }
 },
 "nbformat": 4,
 "nbformat_minor": 2
}
